{
  "nbformat": 4,
  "nbformat_minor": 0,
  "metadata": {
    "colab": {
      "name": "Practice_10-11_KM_01_.ipynb",
      "provenance": [],
      "collapsed_sections": []
    },
    "kernelspec": {
      "name": "python3",
      "display_name": "Python 3.8.5 64-bit",
      "metadata": {
        "interpreter": {
          "hash": "5c0372ed38b372118c24adb00d45654d76c8d10261533c5724e3f5fc1d75489a"
        }
      }
    }
  },
  "cells": [
    {
      "cell_type": "markdown",
      "metadata": {
        "id": "FMqboNwO4rVs"
      },
      "source": [
        "# **Курс \"Програмування на мові Python\"**\n",
        "\n",
        "##### Викладачі:\n",
        "##### Борисенко Павло Борисович\n",
        "##### Щьоголєв Максим Олегович\n"
      ]
    },
    {
      "cell_type": "markdown",
      "metadata": {
        "id": "A2T6MigL5Z06"
      },
      "source": [
        "## **Практичні зайняття №10-11**\n",
        "\n",
        "### Тема: \"Ітератори та генератори. Декоратори\""
      ]
    },
    {
      "cell_type": "markdown",
      "metadata": {
        "id": "cfCdgK2zXm7e"
      },
      "source": [
        "### **Завдання 1 (2 бали)**\n",
        "\n",
        "Розрахуйте коефієнти розкладу біному Ньютона за допомогою генератора (https://uk.wikipedia.org/wiki/%D0%91%D1%96%D0%BD%D0%BE%D0%BC_%D0%9D%D1%8C%D1%8E%D1%82%D0%BE%D0%BD%D0%B0).\n",
        "\n",
        "1. Степінь многочлена користувач має вводити з клавіатури (невід'ємне ціле число).\n",
        "\n",
        "2. Програма має підраховувати біноміальні коефіцієнти для біномів усіх степенів, починаючи від 0 і закінчуючи тим, який ввів користувач.\n",
        "\n",
        "3. Коефіцієнти мають виводитись у вигляді трикутника Паскаля.\n",
        "\n",
        "Наприклад, якщо користувач введе число 5, програма має вивести результат:\n",
        "\n",
        "1\n",
        "\n",
        "1 1\n",
        "\n",
        "1 2 1\n",
        "\n",
        "1 3 3 1\n",
        "\n",
        "1 4 6 4 1\n",
        "\n",
        "1 5 10 10 5 1\n"
      ]
    },
    {
      "cell_type": "code",
      "metadata": {
        "id": "Bku8v9CjE_Qc"
      },
      "source": [
        "def pascal_triangle(rows):\n",
        "\n",
        "       for rownum in range (rows):\n",
        "           first_num=1\n",
        "           row = [first_num]\n",
        "           for iteration in range (rownum):\n",
        "               first_num = first_num * (rownum - iteration) * 1 / (iteration + 1)\n",
        "               row.append(int(first_num))\n",
        "           print(*row)\n",
        "       print()\n",
        "\n",
        "pascal_triangle(6)"
      ],
      "execution_count": 4,
      "outputs": [
        {
          "output_type": "stream",
          "name": "stdout",
          "text": [
            "1\n1 1\n1 2 1\n1 3 3 1\n1 4 6 4 1\n1 5 10 10 5 1\n\n"
          ]
        }
      ]
    },
    {
      "cell_type": "markdown",
      "metadata": {
        "id": "oqXwIz3iuPRe"
      },
      "source": [
        "### **Завдання 2 (4 бали)**\n",
        "\n",
        "Більшість друкованих книг (особливо це стосується книг у твердій палітурці) складаються із зошитів. Припустимо, що в друкарні текст друкується на листах паперу удвічі більших за звичайний книжковий формат. Потім ці листи складаються вдвічі, з них формуються зошити, які потім зшиваються у блок. Зшиті зошити зазвичай складаються з 8, 12 або 16 листів (відповідно 16, 24 або 32 сторінок) кожен.\n",
        "\n",
        "Розглянемо конкретний приклад. \n",
        "\n",
        "Припустимо, що кожен зшитий зошит нашої книги складається з 8 листів (16 сторінок). Якщо уявити великі листи, з яких потім складаються зошити, то на кожному таком листі буде по 4 сторінки книги. У нашій книзі таких великих листів буде 4. Розглянемо перший лист. З одного боку на ньому будуть надруковані сторінки 16 та 1, з іншого - 2 та 15. На другому листі з одного боку будуть надруковані сторінки 14 та 3, з іншого - 4 та 13.\n",
        "\n",
        "**Написати програму, яка визначатиме послідовність сторінок, що будуть надруковані на кожному великому листі.**\n",
        "\n",
        "1. Користувач має вводити з клавіатури три значення: кількість сторінок у книзі (не більше 1280), кількість сторінок у кожному зошиті цієї книги (потрібно буде обрати один з трьох варіантів: 16, 24 або 32) та параметр 0 або 1 (пояснення у п. 5).\n",
        "\n",
        "2. Зверніть увагу на те, що загальна кількість сторінок у книзі має бути кратною кількості сторінок у зошиті. Якщо користувач введе число, що не задовольняє цій умові, програма повинна припинити роботу або запропонувати користувачеві ввесте інше значення. Зауважте також, що 1280 не ділиться на 24.\n",
        "\n",
        "3. Зверніть увагу на те, що на великих листах поворот аркуша відбувається за коротким краєм. Отже, якщо з одного боку аркуша надруковано сторінки 16 та 1, то з іншого 2 та 15 (а не 15, 2), якщо дивитись зліва направо.\n",
        "\n",
        "4. Функція, яка визначатиме послідовність книжкових сторінок, має виводити на екран рядок за рядком номери сторінок кожного зошита, а також кількість зошитів у книзі.\n",
        "\n",
        "5. Створіть функцію-декоратор, яка прийматиме на вхід параметр 0 або 1, конвертований у False або True відповідно, та навісьте його на попередню функцію. Якщо параметр дорівнює False, додаткові функції декоратора не повинні виконуватись, тобто має виконатись лише функція з п. 4. Декоратор повинен створювати список усіх сторінок у потрібній послідовності, причому номери сторінок кожного зошита мають зберігатись в окремому вкладеному списку. Для 16-сторінкового зошита список повинен мати вигляд:\n",
        "\n",
        "`[[16, 1, 2, 15, 14, 3, 4, 13, ..., 10, 7, 8, 9], [32, 17, 18, 31, ...], ... ]`\n",
        "\n",
        "**Бонусне завдання (за бажанням)**\n",
        "\n",
        "6. Замість функції з п. 4 створіть генератор, який буде визначати послідовність книжкових сторінок для кожного зошита. Ці рядки можна потім вивести або у циклі, або за допомогою функції next(). Функція-декоратор має працювати з цим генератором так само, як і зі звичайною функцією."
      ]
    },
    {
      "cell_type": "code",
      "metadata": {
        "id": "yiRr2CqMWxLA"
      },
      "source": [
        "def page_amount():\n",
        "    while True:\n",
        "        pages = input(\"Please enter amount of pages in the book (ot more than 1280):\")\n",
        "        if pages.isdigit():\n",
        "            pages = int(pages)\n",
        "            if pages <= 1280:\n",
        "                return pages\n",
        "            else:\n",
        "                print(\"Amount of pages must be less than 1280:\")\n",
        "        else:\n",
        "            print(\"Your input is not numeric! Try again.\")\n",
        "\n",
        "\n",
        "page = page_amount()\n",
        "\n",
        "\n",
        "while True :\n",
        "    copy_book = input(\"Please enter amount of pages in each copy-book (16, 24 or 32 pages):\")\n",
        "    if copy_book.isdigit():\n",
        "        copy_book = int(copy_book)\n",
        "        if copy_book == 16:\n",
        "            break\n",
        "        elif copy_book == 24:\n",
        "            break\n",
        "        elif copy_book == 32:\n",
        "            break\n",
        "        else:\n",
        "            print(\"Amount of pages in each copy-book can be only 16, 24 or 32. Try again.\")\n",
        "    else:\n",
        "        print(\"Your input is not numeric! Try again.\")\n",
        "\n",
        "while True :\n",
        "    param = input(\"Enter parameter (0 or 1):\")\n",
        "    if param.isdigit():\n",
        "        param = int(param)\n",
        "        if param == 0:\n",
        "            break\n",
        "        elif param == 1:\n",
        "            break\n",
        "        else:\n",
        "            print(\"Parameter must be 0 or 1 only. Try again.\")\n",
        "    else:\n",
        "        print(\"Your input is not numeric. Try again\")\n",
        "\n",
        "while True:\n",
        "    if (copy_book == 24) and (page == 1280):\n",
        "        while page == 1280:\n",
        "            print(\"Enter amount of pages(not 1280):\")\n",
        "            page = page_amount()\n",
        "        if page != 1280:\n",
        "            if page % copy_book == 0:\n",
        "                break\n",
        "        else:\n",
        "            print(\"The number of pages in the book should be a multiple of the number of pages in the notebook. Try again.\")\n",
        "    else:\n",
        "        if page % copy_book == 0:\n",
        "            break\n",
        "        else:\n",
        "            print(\"The number of pages in the book should be a multiple of the number of pages in the notebook. Try again.\")\n",
        "\n",
        "\n",
        "def num_copybook(pages, copybook, parameter):\n",
        "    activate = False\n",
        "    if parameter == 0:\n",
        "        activate = False\n",
        "    else:\n",
        "        activate = True\n",
        "    copybooks = int(pages / copybook)\n",
        "    print(\"This book is made up of \", copybooks, \" notebooks of \", copy_book, \" pages.\\n\", sep=\"\")\n",
        "    main_list = []\n",
        "    j = 1\n",
        "    for i in range(copybooks):\n",
        "        k = copybook * (i + 1)\n",
        "        booklist = []\n",
        "        while k >= j:\n",
        "            booklist.append(k)\n",
        "            booklist.append(j)\n",
        "            k -= 1\n",
        "            j += 1\n",
        "            booklist.append(j)\n",
        "            booklist.append(k)\n",
        "            k -=1\n",
        "            j += 1\n",
        "        main_list.append(booklist)\n",
        "        j = copybook * (i + 1) + 1\n",
        "    if activate == True:\n",
        "        print(main_list)\n",
        "    else:\n",
        "        for i in range(len(main_list)):\n",
        "            print(\"Полсідовність сторінок \", i + 1, \" зошита - \", main_list[i], sep=\"\")\n",
        "\n",
        "    \n",
        "num_copybook(page, copy_book, param)\n",
        "\n"
      ],
      "execution_count": 16,
      "outputs": [
        {
          "output_type": "stream",
          "name": "stdout",
          "text": [
            "This book is made up of 3 notebooks of 24 pages.\n\nПолсідовність сторінок 1 зошита - [24, 1, 2, 23, 22, 3, 4, 21, 20, 5, 6, 19, 18, 7, 8, 17, 16, 9, 10, 15, 14, 11, 12, 13]\nПолсідовність сторінок 2 зошита - [48, 25, 26, 47, 46, 27, 28, 45, 44, 29, 30, 43, 42, 31, 32, 41, 40, 33, 34, 39, 38, 35, 36, 37]\nПолсідовність сторінок 3 зошита - [72, 49, 50, 71, 70, 51, 52, 69, 68, 53, 54, 67, 66, 55, 56, 65, 64, 57, 58, 63, 62, 59, 60, 61]\n"
          ]
        }
      ]
    },
    {
      "cell_type": "code",
      "execution_count": null,
      "metadata": {},
      "outputs": [],
      "source": []
    }
  ]
}