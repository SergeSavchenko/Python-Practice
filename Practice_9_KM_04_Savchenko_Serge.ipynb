{
  "nbformat": 4,
  "nbformat_minor": 0,
  "metadata": {
    "colab": {
      "name": "Practice_7_KM-01_.ipynb",
      "provenance": [],
      "collapsed_sections": []
    },
    "kernelspec": {
      "name": "python3",
      "display_name": "Python 3.8.5 64-bit",
      "metadata": {
        "interpreter": {
          "hash": "5c0372ed38b372118c24adb00d45654d76c8d10261533c5724e3f5fc1d75489a"
        }
      }
    }
  },
  "cells": [
    {
      "cell_type": "markdown",
      "metadata": {
        "id": "FMqboNwO4rVs"
      },
      "source": [
        "# **Курс \"Програмування на мові Python\"**\n",
        "\n",
        "##### Викладачі:\n",
        "##### Борисенко Павло Борисович\n",
        "##### Щьоголєв Максим Олегович\n"
      ]
    },
    {
      "cell_type": "markdown",
      "metadata": {
        "id": "A2T6MigL5Z06"
      },
      "source": [
        "## **Практичне зайняття №9**\n",
        "\n",
        "### Тема: \"Лямбда-функції. Функції вищих порядків\""
      ]
    },
    {
      "cell_type": "markdown",
      "metadata": {
        "id": "cfCdgK2zXm7e"
      },
      "source": [
        "### **Завдання 1 (1 бал)**\n",
        "\n",
        "Керівництво будівельної компанії вирішило підняти заробітні плати всім своїм працівникам на 30%. В залежності від спеціалізації та стажу працівники мають різну заробітну плату. Для підготовки звіту необхідно розрахувати нову заробітну плату для працівників компанії, а також суму індексації.\n",
        "\n",
        "Написати програму, яка буде генерувати таблицю для цього звіту. Початкова заробітна плата працівників подана у списку salary_list (у тисячах гривень). \n",
        "\n",
        "1. Для підрахунку невідомих значень повинні використовуватись вбудовані функції вищих порядків.\n",
        "\n",
        "2. Зарплата після індексації та сума індексації для працівників різних категорій повинні зберігатись у двох окремих списках. Порядок значень у кожному з нових списків повинен відповідати порядку значень у списку salary_list.\n",
        "\n",
        "3. Кожне підраховане числове значення має бути округлене до сотих.\n",
        "\n",
        "4. Дані повинні виводитись у вигляді:\n",
        "\n",
        "**Salary table:**\n",
        "\n",
        "**7.3 9.49 2.19**\n",
        "\n",
        "**8.5 11.05 2.55**\n",
        "\n",
        "**...**\n",
        "\n",
        "salary_list = [[7.3, 8.5, 11, 12.7, 15.2, 21.12, 27.35]]"
      ]
    },
    {
      "cell_type": "code",
      "metadata": {
        "id": "ifNX2M7LXm7f"
      },
      "source": [
        "salary = [7.3, 8.5, 11, 12.7, 15.2, 21.12, 27.35]\n",
        "\n",
        "indexed_salary = list(map(lambda x: x * 1.3, salary))\n",
        "indexed_salary = [round(s, 2) for s in indexed_salary]\n",
        "\n",
        "index = list(map(lambda x: x * 0.3, salary))\n",
        "index = [round(s, 2) for s in index]\n",
        "\n",
        "for i in range(len(salary)):\n",
        "    print(salary[i], indexed_salary[i], index[i], sep=\"  \", end=\"\\n\")\n",
        "\n"
      ],
      "execution_count": 48,
      "outputs": [
        {
          "output_type": "stream",
          "name": "stdout",
          "text": [
            "7.3  9.49  2.19\n8.5  11.05  2.55\n11  14.3  3.3\n12.7  16.51  3.81\n15.2  19.76  4.56\n21.12  27.46  6.34\n27.35  35.55  8.21\n"
          ]
        }
      ]
    },
    {
      "source": [
        "### **Завдання 2 (2 бали)**\n",
        "\n",
        "Зазвичай рік має 365 днів. Однак у високосні роки додається ще один день - 29 лютого. Правила визначення високосного року такі:\n",
        "\n",
        "- Будь-який рік, що ділиться на 400 - високосний.\n",
        "\n",
        "- З тих років, що залишились, будь-який рік, що ділиться на 100 - **не** високосний.\n",
        "\n",
        "- З тих років, що залишились, будь-який рік, що ділиться на 4 - високосний.\n",
        "\n",
        "- Усі інші роки, що залишились - **не** високосні.\n",
        "\n",
        "1) Створіть функцію, в якій за допомогою вбудованих функцій вищих порядків будуть визначатися високосні роки серед перелічених років у списку years. Створена функція має повертати список високосних років.\n",
        "\n",
        "2) Створіть функцію вищих порядків, яка прийматиме на вхід попередню функцію та визначатиме кількість днів у місяці. Також функція повинна приймати на вхід ще 2 параметри: ціле число від 1 до 12 (місяць) та рік, як ціле чотирицифрове число. Ці значення корисувач має вводити з клавіатури. Перевірку введених даних слід виконувати поза межами функцій."
      ],
      "cell_type": "markdown",
      "metadata": {}
    },
    {
      "cell_type": "code",
      "execution_count": 34,
      "metadata": {},
      "outputs": [
        {
          "output_type": "stream",
          "name": "stdout",
          "text": [
            "Entered year is out of range! (1900 - 2020 inclusive)\n",
            "The month must be one or two digits.\n",
            "This month has 29 days.\n"
          ]
        }
      ],
      "source": [
        "import numpy as np\n",
        "\n",
        "years = np.arange(1900, 2020+1, 1)\n",
        "\n",
        "def np_difference(list1, list2):\n",
        "        for i in list1:\n",
        "            if i in list2:\n",
        "                list1 = np.delete(list1, list(list1).index(i))\n",
        "        return list1\n",
        "\n",
        "\n",
        "def leap_year_search(years_list):\n",
        "\n",
        "    global np_difference\n",
        "\n",
        "    leap = list(filter(lambda x: x % 400 == 0, years_list))\n",
        "\n",
        "    years_list = np_difference(years_list, leap)\n",
        "\n",
        "    not_leap = list(filter(lambda x: x % 100 == 0, years_list))\n",
        "\n",
        "    step3 = np_difference(years_list, not_leap)\n",
        "\n",
        "    step4 = list(filter(lambda x: x % 4 == 0, step3))\n",
        "\n",
        "    for i in leap:\n",
        "        step4.append(i)\n",
        "\n",
        "    step4.sort()\n",
        "\n",
        "    return step4\n",
        "\n",
        "leap_years = leap_year_search(years)\n",
        "\n",
        "not_leap_years = np_difference(years, leap_years)\n",
        "\n",
        "while True:\n",
        "    year = input(\"Enter the year (from 1900 to 2020 inclusive):\")\n",
        "    if  len(year) != 4:\n",
        "        print(\"The year must be a four-digit number.\")\n",
        "    else:\n",
        "        if year.isdigit():\n",
        "            year = int(year)\n",
        "            if (year < 1900) or (year > 2020):\n",
        "                print(\"Entered year is out of range! (1900 - 2020 inclusive)\")\n",
        "            else:\n",
        "                break\n",
        "\n",
        "while True:\n",
        "    month = input(\"Enter the index of the month (1 - 12 inclusive):\")\n",
        "    if (len(month) > 2) or (len(month) < 1):\n",
        "        print(\"The month must be one or two digits.\")\n",
        "    else:\n",
        "        if month.isdigit():\n",
        "            month = int(month)\n",
        "            if (month > 12) or (month < 1):\n",
        "                print(\"Entered month is out of range! (1 - 12 inclusive)\")\n",
        "            else:        \n",
        "                break\n",
        "\n",
        "def days_amount(func, x_month, x_year):\n",
        "    even_amount = 30\n",
        "    not_even_amount = 31\n",
        "    february_amount = 29\n",
        "    if x_year in func:\n",
        "        if x_month == 2:\n",
        "            print(\"This month has\", february_amount, \"days.\")\n",
        "        else:\n",
        "            if x_month % 2 == 0:\n",
        "                print(\"This month has\", even_amount, \"days.\")\n",
        "            else:\n",
        "                print(\"This month has\", not_even_amount, \"days.\")\n",
        "\n",
        "    else:\n",
        "        print(\"Unfortunately, entered year is not a leap year.\")\n",
        "\n",
        "\n",
        "days_amount(leap_year_search(years), month, year)\n",
        "\n",
        "\n",
        "\n",
        "\n"
      ]
    },
    {
      "cell_type": "code",
      "execution_count": null,
      "metadata": {},
      "outputs": [],
      "source": []
    }
  ]
}