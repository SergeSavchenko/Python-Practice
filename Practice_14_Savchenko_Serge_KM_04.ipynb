{
  "nbformat": 4,
  "nbformat_minor": 0,
  "metadata": {
    "colab": {
      "name": "Practice_14_KM_01.ipynb",
      "provenance": [],
      "collapsed_sections": []
    },
    "kernelspec": {
      "name": "python3",
      "display_name": "Python 3.8.5 64-bit",
      "metadata": {
        "interpreter": {
          "hash": "5c0372ed38b372118c24adb00d45654d76c8d10261533c5724e3f5fc1d75489a"
        }
      }
    }
  },
  "cells": [
    {
      "cell_type": "markdown",
      "metadata": {
        "id": "FMqboNwO4rVs"
      },
      "source": [
        "# **Курс \"Програмування на мові Python\"**\n",
        "\n",
        "##### Викладачі:\n",
        "##### Борисенко Павло Борисович\n",
        "##### Щьоголєв Максим Олегович\n"
      ]
    },
    {
      "cell_type": "markdown",
      "metadata": {
        "id": "A2T6MigL5Z06"
      },
      "source": [
        "## **Практичне зайняття №14**\n",
        "\n",
        "### Тема: \"Робота з файлами\""
      ]
    },
    {
      "cell_type": "markdown",
      "metadata": {
        "id": "cfCdgK2zXm7e"
      },
      "source": [
        "### **Завдання 1 (1,5 бали)**\n",
        "\n",
        "У 1939 році друком вийшов роман американського письменика Ернеста Вінсента Райта \"Ґедсбі\". Особливу увагу публіки він здобув через те, що письменник жодного разу не використав у романі літеру \"e\" (роман складається з більше ніж 50,000 слів), яка є найбільш вживаною літерою в англійській мові.\n",
        "\n",
        "Порахуйте кількість входжень кожної літери у текст роману. Виведіть список літер англійського алфавіту, а також інформацію про те, скільки відсотків від усіх літер тексту складає кожна літера алфавіту.\n",
        "\n",
        "Зауваження:\n",
        "\n",
        "1. Програма має ігнорувати будь-які символи, окрім літер.\n",
        "\n",
        "2. Переведіть усі літери у верхній або у нижній регістр.\n",
        "\n",
        "3. Під час виведення відсортуйте літери у порядку зменшення їхнього відсотка. Літера \"e\" має стояти на останньому місці у цьому списку.\n",
        "\n",
        "4. Виведіть перші 5 та останні 5 літер відсортованого списку разом з відсотковими значеннями, що їм відповідають."
      ]
    },
    {
      "cell_type": "code",
      "metadata": {
        "tags": [],
        "id": "u4-fHJJ6U462"
      },
      "source": [
        "with open(\"gadsby.txt\", \"r\") as file:\n",
        "    lines = [x.lower() for x in file.readlines()]\n",
        "letters = {\n",
        "    \"a\" : 0,\n",
        "    \"b\" : 0,\n",
        "    \"c\" : 0,\n",
        "    \"d\" : 0,\n",
        "    \"e\" : 0,\n",
        "    \"f\" : 0,\n",
        "    \"g\" : 0,\n",
        "    \"h\" : 0,\n",
        "    \"i\" : 0,\n",
        "    \"j\" : 0,\n",
        "    \"k\" : 0,\n",
        "    \"l\" : 0,\n",
        "    \"m\" : 0,\n",
        "    \"n\" : 0,\n",
        "    \"o\" : 0,\n",
        "    \"p\" : 0,\n",
        "    \"q\" : 0,\n",
        "    \"r\" : 0,\n",
        "    \"s\" : 0,\n",
        "    \"t\" : 0,\n",
        "    \"u\" : 0,\n",
        "    \"v\" : 0,\n",
        "    \"w\" : 0,\n",
        "    \"x\" : 0,\n",
        "    \"y\" : 0,\n",
        "    \"z\" : 0\n",
        "}\n",
        "\n",
        "for line in lines:\n",
        "    for el in line:\n",
        "        if el in \"abcdefghijklmnopqrstuvwxyz\":\n",
        "            letters[el] += 1\n",
        "        else:\n",
        "            continue\n",
        "\n",
        "\n",
        "lenwords = 0\n",
        "for i in letters:\n",
        "    lenwords += letters[i]\n",
        "\n",
        "\n",
        "for i in letters:\n",
        "    letters[i] = round((letters[i] / lenwords) * 100, ndigits=2)\n",
        "\n",
        "letters = {k: v for k, v in sorted(letters.items(), key=lambda item: item[1], reverse=True)}\n",
        "\n",
        "letters_list = []\n",
        "for i in letters:\n",
        "    letters_list.append(\"('\"+str(i)+\"', \"+str(letters[i])+\"%)\")\n",
        "print(letters_list[:5])\n",
        "print(letters_list[-5:])\n",
        "\n",
        "\n",
        "\n"
      ],
      "execution_count": 58,
      "outputs": [
        {
          "output_type": "stream",
          "name": "stdout",
          "text": [
            "[\"('a', 10.95%)\", \"('o', 10.42%)\", \"('i', 8.83%)\", \"('n', 8.6%)\", \"('t', 8.49%)\"]\n[\"('j', 0.23%)\", \"('z', 0.11%)\", \"('x', 0.08%)\", \"('q', 0.05%)\", \"('e', 0.0%)\"]\n"
          ]
        }
      ]
    },
    {
      "cell_type": "markdown",
      "metadata": {
        "id": "A34oz70eU463"
      },
      "source": [
        "### **Завдання 2 (1,5 бали)**\n",
        "\n",
        "Створіть CSV-файл, що буде містити від 5 до 10 пісень (творів) вашого улюбленого музиканта. Назва файлу - ім'я музиканта (композитора) або назва гурту.\n",
        "\n",
        "1. Обов'язково додайте до файлу рядок з назвами двох колонок (Song, Year) або (Composition, Year).\n",
        "\n",
        "2. Після запису файлу роздрукуйте назву файлу та усі наявні у файлі рядки (включно із заголовками).\n",
        "\n",
        "3. Для запису та зчитування рядків скористайтесь функціями csv.DictWriter() та csv.DictReader()."
      ]
    },
    {
      "cell_type": "code",
      "metadata": {
        "id": "MEJIrG1GU463"
      },
      "source": [
        "import csv\n",
        "with open('Metallica.csv', 'w', newline='') as csvfile:\n",
        "    fieldnames = ['Song', 'Year']\n",
        "    writer = csv.DictWriter(csvfile, fieldnames=fieldnames)\n",
        "    writer.writeheader()\n",
        "    writer.writerow({'Song': 'The Unforgiven',\n",
        "                     'Year' : 1991})\n",
        "    writer.writerow({'Song': 'Nothing Else Matters',\n",
        "                     'Year': 1991})\n",
        "    writer.writerow({'Song': 'Enter Sandman',\n",
        "                     'Year' : 1991})\n",
        "    writer.writerow({'Song': 'Sad But True',\n",
        "                     'Year': 1991})\n",
        "    writer.writerow({'Song': 'Atlas, Rise!',\n",
        "                     'Year' : 2015})\n",
        "    writer.writerow({'Song': 'Harwired to Self Destruct',\n",
        "                     'Year': 2015})\n",
        "    writer.writerow({'Song': 'Now That We`re Dead',\n",
        "                     'Year' : 2015})\n",
        "    writer.writerow({'Song': 'One',\n",
        "                     'Year': 1988})\n",
        "    writer.writerow({'Song': 'So F*cking What',\n",
        "                     'Year' : 1991})\n",
        "\n",
        "\n",
        "with open('Metallica.csv', newline='') as csvfile:\n",
        "    reader = csv.DictReader(csvfile)\n",
        "    for heading in reader.fieldnames:\n",
        "        print(heading, end='         ')\n",
        "    print('\\n------------------------------')\n",
        "    for row in reader:\n",
        "        print(row['Song'], row['Year'])"
      ],
      "execution_count": 62,
      "outputs": [
        {
          "output_type": "stream",
          "name": "stdout",
          "text": [
            "Song         Year         \n------------------------------\nThe Unforgiven 1991\nNothing Else Matters 1991\nEnter Sandman 1991\nSad But True 1991\nAtlas, Rise! 2015\nHarwired to Self Destruct 2015\nNow That We`re Dead 2015\nOne 1988\nSo F*cking What 1991\n"
          ]
        }
      ]
    },
    {
      "cell_type": "markdown",
      "metadata": {
        "id": "Jb-eSBsWU464"
      },
      "source": [
        "### **Завдання 3 (бонусне, 1 бал)**\n",
        "\n",
        "COCO Dataset - набір фотографій та анотацій до них. Його дуже часто використовують для тренування класифікаторів, призначених для розпізнавання об'єктів та визначення ключових точок на зображеннях.\n",
        "\n",
        "Завантажте файли з описом фотографій COCO Dataset за посиланням: http://images.cocodataset.org/annotations/image_info_test2017.zip\n",
        "\n",
        "1. Відкрийте файл image_info_test-dev2017.json. Інформація про фотографії з бази COCO міститься у полі \"images\". Інформація про категорії, на які розділені всі фотографії, міститься у полі \"categories\".\n",
        "\n",
        "2. Визначте кількість фотографій, інформацію про які можна знайти у цьому файлі (кількість елементів, що відповідають ключу \"images\").\n",
        "\n",
        "3. Визначте кількість наявних категорій (кількість елементів, що відповідають ключу \"categories\").\n",
        "\n",
        "4. Виведіть посилання на фотографію 000000000001.jpg (\"coco_url\"), висоту цієї фотографії (\"height\"), ширину (\"width\") та її ідентифікатор (\"id\").\n",
        "\n",
        "5. Опис структури JSON-файлу для набору фотографій COCO можна знайти за посиланням: https://cocodataset.org/#format-data\n",
        "\n",
        "6. Щоб перевірити правильність результатів, у VS Code встановіть розширення JSON та відкрийте файл image_info_test-dev2017.json. Розширення автоматично визначає кількість елементів у кожному полі."
      ]
    },
    {
      "cell_type": "code",
      "metadata": {
        "id": "74C6WKB_U464",
        "tags": []
      },
      "source": [
        "import json\n",
        "\n",
        "with open('image_info_test-dev2017.json') as f:\n",
        "    data = json.load(f)\n",
        "\n"
      ],
      "execution_count": 61,
      "outputs": []
    },
    {
      "cell_type": "code",
      "execution_count": null,
      "metadata": {},
      "outputs": [],
      "source": []
    }
  ]
}