{
  "nbformat": 4,
  "nbformat_minor": 0,
  "metadata": {
    "colab": {
      "name": "Practice_7_KM-01_.ipynb",
      "provenance": [],
      "collapsed_sections": []
    },
    "kernelspec": {
      "name": "python3",
      "display_name": "Python 3.8.5 64-bit",
      "metadata": {
        "interpreter": {
          "hash": "5c0372ed38b372118c24adb00d45654d76c8d10261533c5724e3f5fc1d75489a"
        }
      }
    }
  },
  "cells": [
    {
      "cell_type": "markdown",
      "metadata": {
        "id": "FMqboNwO4rVs"
      },
      "source": [
        "# **Курс \"Програмування на мові Python\"**\n",
        "\n",
        "##### Викладачі:\n",
        "##### Борисенко Павло Борисович\n",
        "##### Щьоголєв Максим Олегович\n"
      ]
    },
    {
      "cell_type": "markdown",
      "metadata": {
        "id": "A2T6MigL5Z06"
      },
      "source": [
        "## **Практичне зайняття №8**\n",
        "\n",
        "### Тема: \"Робота з функціями. Локальні та глобальні змінні\""
      ]
    },
    {
      "cell_type": "markdown",
      "metadata": {
        "id": "cfCdgK2zXm7e"
      },
      "source": [
        "### **Завдання 1 (3 бали)**\n",
        "\n",
        "**Підрахувати визначник матриці, використовуючи правило перестановок.**\n",
        "\n",
        "Функція random_matrix() призначена для створення квадратної матриці випадкових чисел. Її змінювати непотрібно.\n",
        "\n",
        "Приклад використання методу permutations() для створення списку перестановок також подається у комірці з кодом.\n",
        "\n",
        "1) Створити 3 функції: функцію створення списку перестановок, функцію підрахунку добутків та функцію підрахунку загальної суми.\n",
        "\n",
        "2) Кожна функція має супроводжуватись рядком документації, що буде коротко описувати її призначення.\n",
        "\n",
        "3) Розмірність квадратної матриці має вводитись користувачем з клавіатури. Підрахунки виконувати лише в тому разі, якщо користувач введе ціле додатне число.\n",
        "\n",
        "4) Загальний результат повинен підраховуватись за допомогою композиції функцій.\n",
        "\n",
        "За бажання можна перевірити правильність роботи програми за допомогою функції np.linalg.det(a)."
      ]
    },
    {
      "cell_type": "code",
      "execution_count": null,
      "metadata": {},
      "outputs": [],
      "source": []
    },
    {
      "cell_type": "code",
      "metadata": {
        "id": "ifNX2M7LXm7f"
      },
      "source": [
        "import numpy as np\n",
        "import itertools\n",
        "\n",
        "while True:\n",
        "    n = input(\"Enter matrix size:\")\n",
        "    if len(n) != 1:\n",
        "        print(\"Enter one number! (1 - 9)\")\n",
        "    if len(n) == 1:\n",
        "        if 48 <= ord(n) <= 57:\n",
        "            n = int(n)\n",
        "            if n > 0:\n",
        "                break\n",
        "\n",
        "\n",
        "def permuts(size):\n",
        "    \"\"\"Ця функція створює список усіх можливих перестановок\"\"\"\n",
        "    lst = \"\"\n",
        "    for i in range(0, size):\n",
        "        lst += str(i)\n",
        "    perms = list(itertools.permutations(lst, size))\n",
        "    return perms\n",
        "\n",
        "\n",
        "permutats = permuts(n)\n",
        "\n",
        "\n",
        "def contradiction(perms):\n",
        "    \"\"\"Ця функція шукає протиріччя для кожної комбінації перестановок, кількість протирічь для кожної комбінації\n",
        "     і буде дорівнювати N[k] \"\"\"\n",
        "    P = []\n",
        "    for i in range(len(perms)):\n",
        "        P.append(0)\n",
        "    for i in range(len(perms)):\n",
        "        for j in range(len(perms[i])):\n",
        "            if j <= (n - 2):\n",
        "                if perms[i][j] > perms[i][j + 1]:\n",
        "                    P[i] += 1\n",
        "            else:\n",
        "                continue\n",
        "    return P\n",
        "\n",
        "\n",
        "N = contradiction(permutats)\n",
        "\n",
        "\n",
        "def random_matrix(dim):\n",
        "    \"\"\"\n",
        "    The function generates dim x dim array of integers\n",
        "    between 0 and 10.\n",
        "    \"\"\"\n",
        "    A = np.random.randint(10, size=(dim, dim))\n",
        "    return A\n",
        "\n",
        "\n",
        "matrix = random_matrix(n)\n",
        "print(\"A =\\n\", matrix)\n",
        "\n",
        "\n",
        "def multiplication(matrica, permss, contradicts, size):\n",
        "    \"\"\"Ця функція підраховує факторіал від розміру матриці та рахує формулу для кожного к, та додає ці значення у список по порядку\"\"\"\n",
        "    n_fact = 1\n",
        "    for i in range(1, size + 1):\n",
        "        n_fact *= i\n",
        "    \n",
        "    multi = []\n",
        "\n",
        "    for k in range(0, n_fact):\n",
        "        multiple = ((-1) ** contradicts[k])\n",
        "        for i in range(0, size):\n",
        "            multiple *= matrica[i][int(permss[k][i])]\n",
        "\n",
        "        multi.append(multiple)\n",
        "    return multi, n_fact\n",
        "\n",
        "multiple, factorial = multiplication(matrix, permutats, N, n)\n",
        "\n",
        "def summa(multiply, fact):\n",
        "    \"\"\"Ця функція підраховує сумму усіх значень списку минулої функції\"\"\"\n",
        "\n",
        "    summ = 0\n",
        "    for i in range(0, fact):\n",
        "        summ += multiply[i]\n",
        "    \n",
        "    return summ\n",
        "\n",
        "\n",
        "print(\"\\ndet A =\", summa(multiple, factorial))\n"
      ],
      "execution_count": 1,
      "outputs": [
        {
          "output_type": "stream",
          "name": "stdout",
          "text": [
            "A =\n [[4 7 7]\n [4 9 9]\n [7 7 8]]\n\ndet A = -384\n"
          ]
        }
      ]
    },
    {
      "cell_type": "code",
      "execution_count": null,
      "metadata": {},
      "outputs": [],
      "source": []
    }
  ]
}