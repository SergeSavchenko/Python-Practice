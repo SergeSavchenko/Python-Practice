{
  "nbformat": 4,
  "nbformat_minor": 0,
  "metadata": {
    "colab": {
      "name": "Practice_6.ipynb",
      "provenance": [],
      "collapsed_sections": [
        "LyWSBl0DOxJ8",
        "5qzvb1n_va3D",
        "fRXqCrBOmwAX"
      ]
    },
    "kernelspec": {
      "name": "Python 3.8.5 64-bit",
      "display_name": "Python 3.8.5 64-bit",
      "metadata": {
        "interpreter": {
          "hash": "5c0372ed38b372118c24adb00d45654d76c8d10261533c5724e3f5fc1d75489a"
        }
      }
    }
  },
  "cells": [
    {
      "cell_type": "markdown",
      "metadata": {
        "id": "FMqboNwO4rVs"
      },
      "source": [
        "# **Курс \"Програмування на мові Python\"**\n",
        "\n",
        "##### Викладачі:\n",
        "##### Борисенко Павло Борисович\n",
        "##### Щьоголєв Максим Олегович\n"
      ]
    },
    {
      "cell_type": "markdown",
      "metadata": {
        "id": "A2T6MigL5Z06"
      },
      "source": [
        "## **Практичне зайняття №6**\n",
        "\n",
        "### Тема: \"Робота з рядками. Глибокі копії об'єктів.\""
      ]
    },
    {
      "source": [
        "### **Завдання 1 (2,5 бали)**\n",
        "\n",
        "Модель tf-pose-estimation (https://github.com/ildoonet/tf-pose-estimation) призначена для розпізнавання 18 ключових точок на тілі людини. Кожна точка розпізнається з певною достовірністю, що вимірюється у відсотках. Модель виводить результати у вигляді рядка:\n",
        "\n",
        "```\n",
        "[BodyPart:0-(0.55, 0.17) score=0.81 BodyPart:1-(0.49, 0.27) score=0.85 BodyPart:2-(0.41, 0.26) score=0.67 \n",
        "BodyPart:3-(0.33, 0.37) score=0.72 BodyPart:4-(0.36, 0.48) score=0.78 BodyPart:5-(0.58, 0.27) score=0.81 \n",
        "BodyPart:6-(0.65, 0.38) score=0.88 BodyPart:7-(0.62, 0.48) score=0.86 BodyPart:8-(0.43, 0.48) score=0.60 \n",
        "BodyPart:9-(0.43, 0.66) score=0.67 BodyPart:10-(0.53, 0.79) score=0.56 BodyPart:11-(0.53, 0.48) score=0.56 \n",
        "BodyPart:12-(0.59, 0.66) score=0.75 BodyPart:13-(0.49, 0.80) score=0.50 BodyPart:14-(0.54, 0.15) score=0.73 \n",
        "BodyPart:15-(0.56, 0.15) score=0.85 BodyPart:16-(0.48, 0.16) score=0.81 BodyPart:17-(0.83, 0.18) score=0.79]\n",
        "```\n",
        "\n",
        "Написати програму, яка створюватиме два списки, points та scores. В першому мають послідовно зберігатися координати точок, в другому - їхні достовірності (scores). В обох списках дані мають зберігатись у форматі float. Для поданого рядка списки матимуть вигляд:\n",
        "\n",
        "```\n",
        "points = [0.55,0.17,0.49,0.27,0.41,0.26,0.33,0.37,0.36,0.48,0.58,0.27,0.65,0.38,0.62,0.48,0.43,0.48,\n",
        "0.43,0.66,0.53,0.79,0.53,0.48,0.59,0.66,0.49,0.80,0.54,0.15,0.56,0.15,0.48,0.16,0.83,0.18]\n",
        "scores = [0.81,0.85,0.67,0.72,0.78,0.81,0.88,0.86,0.60,0.67,0.56,0.56,0.75,0.50,0.73,0.85,0.81,0.79]\n",
        "```\n",
        "\n",
        "1. Кількість розпізнаних точок може коливатись у межах від 0 до 18.\n",
        "\n",
        "2. Під час оцінювання коду враховуватиметься його оптимальність.\n",
        "\n",
        "3. У змінній pose_estimation зберігається тестовий рядок. Для перевірки роботи можуть використовуватись інші рядки такого ж формату."
      ],
      "cell_type": "markdown",
      "metadata": {}
    },
    {
      "cell_type": "code",
      "execution_count": 15,
      "metadata": {},
      "outputs": [
        {
          "output_type": "stream",
          "name": "stdout",
          "text": [
            "points = [0.55, 0.17, 0.49, 0.27, 0.41, 0.26, 0.33, 0.37, 0.36, 0.48, 0.58, 0.27, 0.65, 0.38, 0.62, 0.48, 0.43, 0.48, 0.43, 0.66, 0.53, 0.79, 0.53, 0.48, 0.59, 0.66, 0.49, 0.8, 0.54, 0.15, 0.56, 0.15, 0.48, 0.16, 0.83, 0.18]\nscores = [0.81, 0.85, 0.67, 0.72, 0.78, 0.81, 0.88, 0.86, 0.6, 0.67, 0.56, 0.56, 0.75, 0.5, 0.73, 0.85, 0.81, 0.79]\n"
          ]
        }
      ],
      "source": [
        "# Для зручності назвемо змінну txt\n",
        "txt = \"[BodyPart:0-(0.55, 0.17) score=0.81 BodyPart:1-(0.49, 0.27) score=0.85 BodyPart:2-(0.41, 0.26) score=0.67 BodyPart:3-(0.33, 0.37) score=0.72 BodyPart:4-(0.36, 0.48) score=0.78 BodyPart:5-(0.58, 0.27) score=0.81 BodyPart:6-(0.65, 0.38) score=0.88 BodyPart:7-(0.62, 0.48) score=0.86 BodyPart:8-(0.43, 0.48) score=0.60 BodyPart:9-(0.43, 0.66) score=0.67 BodyPart:10-(0.53, 0.79) score=0.56 BodyPart:11-(0.53, 0.48) score=0.56 BodyPart:12-(0.59, 0.66) score=0.75 BodyPart:13-(0.49, 0.80) score=0.50 BodyPart:14-(0.54, 0.15) score=0.73 BodyPart:15-(0.56, 0.15) score=0.85 BodyPart:16-(0.48, 0.16) score=0.81 BodyPart:17-(0.83, 0.18) score=0.79]\"\n",
        "points = []\n",
        "scores = []\n",
        "for i in range(0, len(txt)):\n",
        "    if txt[i] == \"(\":\n",
        "        points.append(float(txt[(i + 1):(i + 5)]))\n",
        "        points.append(float(txt[(i + 7):(i + 11)]))\n",
        "    if txt[i] == \"=\": \n",
        "        scores.append(float(txt[(i + 1):(i + 5)]))    \n",
        "print(\"points =\", points)   \n",
        "print(\"scores =\", scores) \n",
        "\n"
      ]
    },
    {
      "source": [
        "### **Завдання 2 (0,5 бал)**\n",
        "\n",
        "Створіть рядок формату, що дозволить отримати дані з кортежу format_tuple та вивести рядок:\n",
        "\n",
        "*Euler first used **pi** = **3.14** in his **1736** work **Mechanica**, and continued in his widely-read **1748** work Introductio in analysin infinitorum. In hexadecimal system, **pi** is **0x1.91eb851eb851fp+1**.*\n",
        "\n",
        "У рядку формату мають бути 7 заповнювачів (слово pi повторюється двічі, число 3.1415 також використовується двічі). У методі format() мають бути звернення безпосередньо до елементів кортежу.\n",
        "\n",
        "1. Для округлення значень скористайтесь функцією round().\n",
        "\n",
        "2. Щоб конвертувати число типу float у шістнадцяткову форму, скористайтесь методом float.hex().  Щоб отримати потрібне шістнадцяткове представлення, конвертуйте значення pi, округлене до сотих (https://python-reference.readthedocs.io/en/latest/docs/float/hex.html)."
      ],
      "cell_type": "markdown",
      "metadata": {}
    },
    {
      "cell_type": "code",
      "execution_count": 4,
      "metadata": {},
      "outputs": [
        {
          "output_type": "stream",
          "name": "stdout",
          "text": [
            "Euler first used pi = 3.14 in his 1736 work Mechanica, and continued in his widely-read 1748 work Introductio in analysin infinitorum. In hexadecimal system, pi is 0x1.91eb851eb851fp+1.\n"
          ]
        }
      ],
      "source": [
        "format_tuple = (1736, 3.1415, 'pi', 1748, 'Mechanica')\n",
        "result = \"Euler first used {2} = {1} in his {0} work {4}, and continued in his widely-read {3} work Introductio in analysin infinitorum. In hexadecimal system, {2} is {5}.\"\n",
        "print(result.format(1736, round(3.1415, ndigits = 2), 'pi', 1748, 'Mechanica', float.hex(round(3.1415, ndigits = 2))))"
      ]
    },
    {
      "cell_type": "code",
      "execution_count": null,
      "metadata": {},
      "outputs": [],
      "source": []
    }
  ]
}