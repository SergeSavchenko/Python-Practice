{
  "nbformat": 4,
  "nbformat_minor": 0,
  "metadata": {
    "colab": {
      "name": "Practice_5_KM_04_.ipynb",
      "provenance": [],
      "collapsed_sections": []
    },
    "kernelspec": {
      "name": "python3",
      "display_name": "Python 3"
    }
  },
  "cells": [
    {
      "cell_type": "markdown",
      "metadata": {
        "id": "FMqboNwO4rVs"
      },
      "source": [
        "# **Курс \"Програмування на мові Python\"**\n",
        "\n",
        "##### Викладачі:\n",
        "##### Борисенко Павло Борисович\n",
        "##### Щьоголєв Максим Олегович\n"
      ]
    },
    {
      "cell_type": "markdown",
      "metadata": {
        "id": "A2T6MigL5Z06"
      },
      "source": [
        "## **Практичне зайняття №5**\n",
        "### Тема: \"Робота з кортежами, множинами та словниками\""
      ]
    },
    {
      "cell_type": "markdown",
      "metadata": {
        "id": "4AV5CN7N4xja"
      },
      "source": [
        "### **Завдання 1 (1,5 бали)**\n",
        "\n",
        "Напишіть програму, яка визначала б, чи можна з літер однієї фрази скласти іншу фразу. Наприклад:\n",
        "\n",
        "\"William Shakespeare\" -> \"A small spark\"\n",
        "\n",
        "Перша фраза містить 11 унікальних літер (хоча деякі повторюються): a, e, h, i, k, l, m, p, r, s та w. Друга фраза містить 7 унікальних літер: a, k, l, m, p, r та s. Кожна з літер другої фрази зустрічається принаймні один раз у першій фразі.\n",
        "\n",
        "1. Обидві фрази повинні вводитись користувачем з клавіатури.\n",
        "\n",
        "2. Скористайтесь властивістю множин у мові програмування Python для виділення колекції унікальних літер.\n",
        "\n",
        "3. У множину не повинні потрапити пробіли, розділові знаки та інші символи, що не є літерами (скористайтесь методом **isalpha()**). Також усі літери мають бути переведені в нижній або верхній регістр (скористайтесь методами **lower()** або **upper()**).\n",
        "\n",
        "4. Зверніть увагу на те, що літери як в першій, так і вдругій фразі можуть повторюватись. Однак множина унікальних літер другої фрази повинна бути підмножиною множини унікальних літер першої фрази.\n",
        "\n",
        "5. У складі змістовного повідомлення програма повинна виводити множину літер першої фрази, множину літер другої фрази, а також змістовне повідомлення про те, чи можна скласти з літер першої фрази другу фразу."
      ]
    },
    {
      "cell_type": "code",
      "metadata": {
        "id": "9Mesp1jV4xjb"
      },
      "source": [
        "s1 = input(\"Enter first phrase:\")\n",
        "s2 = input(\"Enter second phrase:\")\n",
        "s1 = s1.lower()\n",
        "s2 = s2.lower()\n",
        "s1 = set(s1)\n",
        "s2 = set(s2)\n",
        "s11 = {\"11\"}\n",
        "s22 = {\"22\"}\n",
        "for i in s1:\n",
        "    if i.isalpha():\n",
        "        continue\n",
        "    else:\n",
        "        s11.add(i)\n",
        "for j in s2:\n",
        "    if j.isalpha():\n",
        "        continue\n",
        "    else:\n",
        "        s22.add(j)\n",
        "s1 = s1.difference(s11)\n",
        "s2 = s2.difference(s22)\n",
        "print(s1)\n",
        "print(s2)\n",
        "if s1.issuperset(s2):\n",
        "    print(\"Yes, you can create the second phrase using letters only from the first phrase.\")\n",
        "else:\n",
        "    print(\"Unfortunately, you cannot create the second phrase using letters only from the first phrase.\")\n",
        "\n"
      ],
      "execution_count": null,
      "outputs": []
    },
    {
      "cell_type": "markdown",
      "metadata": {
        "id": "y7pQFLvSCkym"
      },
      "source": [
        "### **Завдання 2 (1,5 бали)**\n",
        "\n",
        "У Канаді поштові індекси мають специфічну форму. Вони складаються з трьох символів. Перший символ вказує на провінцію. Другий символ вказує на те, у міській чи у сільській місцевості знаходиться адресат. Якщо у сільській місцевості - це 0. Якщо у міській - будь-яка інша цифра. Провінція позначається великою латинською літерою. Повний перелік провінцій на літер, що їм відповідають, подано у таблиці.\n",
        "\n",
        "Провінція | Перший символ поштового індекса\n",
        "--- | ---\n",
        "Newfoundland | A\n",
        "Nova Scotia | B\n",
        "Prince Edward Island | C\n",
        "New Brunswick | E\n",
        "Quebec | G, H and J\n",
        "Ontario | K, L, M, N and P\n",
        "Manitoba | R\n",
        "Saskatchewan | S\n",
        "Alberta | T\n",
        "British Columbia | V\n",
        "Nunavut | X\n",
        "Northwest Territories | X\n",
        "Yukon | Y\n",
        "\n",
        "Напишіть програму, яка зчитує поштовий індекс, введений користувачем, та виводить у складі змістовного повідомлення провінцію адресата та інформацію про те, у міській чи у сільській місцевості він знаходиться. Наприклад, якщо користувач вводить T2N, програма повинна визначити, що адресат знаходиться у міській місцевості провінції Альберта. Якщо він вводить X0A, адресат знаходиться у сільській місцевості провінції Нанавут або Північних Територій (зверніть увагу на те, що літера X повторюється для двох провінцій). Третя літера для нас неважлива. Зауважте, що літери D, F, I, O, Q, U, W, та Z не позначають жодної з провінцій Канади.\n",
        "\n",
        "1. Скористайтесь словником для збереження усіх провінцій та літер, що їм відповідають.\n",
        "\n",
        "2. Користувач повинен ввести рівно 3 символи. Перший і останній символи мають бути літерами, другий - цифрою. Для перевірки скористайтесь методами **isalpha()** та **isdigit()**. Якщо користувач введе не 3 символи, а більше чи менше, або ж послідовність літер та цифр не буде співпадати з шаблоном, програма має вивести повідомлення про помилку.\n",
        "\n",
        "3. Програма повинна приймати літери як верхнього, так і нижнього регістрів. Однак виводити - лише у верхньому регістрі (скористайтесь методами **lower()** або **upper()**)."
      ]
    },
    {
      "cell_type": "code",
      "metadata": {
        "id": "EVY800vg4xjg"
      },
      "source": [
        "\n",
        "list1 = (\"D\", \"F\", \"I\", \"O\", \"Q\", \"U\", \"W\", \"Z\")\n",
        "indexes = {\"Newfoundland\": \"A\",\n",
        "           \"Nova Scotia\": \"B\",\n",
        "           \"Prince Edward Island\": \"C\",\n",
        "           \"New Brunswick\": \"E\",\n",
        "           \"Quebec\": (\"G\", \"H\", \"J\"),\n",
        "           \"Ontario\": (\"K\", \"L\", \"M\", \"N\", \"P\"),\n",
        "           \"Manitoba\": 'R',\n",
        "           \"Saskatchewan\": \"S\",\n",
        "           \"British Columbia\": \"V\",\n",
        "           \"Alberta\": \"T\",\n",
        "           \"Nunavut\": \"X\",\n",
        "           \"Northwest Territories\": \"X\",\n",
        "           \"Yukon\": \"Y\"}\n",
        "index = input(\"Please enter your postal code A0B: \")\n",
        "index = index.upper()\n",
        "while index[0] in list1:\n",
        "    print(\"There is no such province.\")\n",
        "    index = input(\"Please enter your postal code A0B: \")\n",
        "    if index[0] not in list1:\n",
        "        break\n",
        "while len(index) != 3:\n",
        "    print(\"Index must contain only three symbols(Two letters and one number)\")\n",
        "    index = input(\"Please enter your postal code A0B: \")\n",
        "if index[0].isalpha and index[1].isdigit and index[2].isalpha:\n",
        "    print(\"Your postal code is correct!\")\n",
        "else:\n",
        "    print(\"First and last symbols of index must be letters, second must be a number!\")\n",
        "    index = input(\"Please enter your postal code A0B: \")\n",
        "for key, value in indexes.items():\n",
        "    if index[0] == \"X\":\n",
        "        continue\n",
        "    if index[0] == value:\n",
        "        print(\"You province is - \", key, sep=\"\", end=\".\\n\")\n",
        "    if index[0] in value:\n",
        "        print(\"You province is - \", key, sep=\"\", end=\".\\n\")\n",
        "if index[0] == \"X\":\n",
        "    print(\"The addressee is located in the Nanavut Province or the Northern Territories.\")\n",
        "\n",
        "if index[1] == 0:\n",
        "    print(\"The addressee lives in the countryside.\")\n",
        "else:\n",
        "    print(\"The addressee lives  in the city.\")\n"
      ],
      "execution_count": null,
      "outputs": []
    }
  ]
}