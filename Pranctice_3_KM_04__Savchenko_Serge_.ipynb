{
  "nbformat": 4,
  "nbformat_minor": 0,
  "metadata": {
    "colab": {
      "name": "Pranctice_3_KM-01_<name>.ipynb",
      "provenance": [],
      "collapsed_sections": []
    },
    "kernelspec": {
      "name": "Python 3.8.5 64-bit",
      "display_name": "Python 3.8.5 64-bit",
      "metadata": {
        "interpreter": {
          "hash": "5c0372ed38b372118c24adb00d45654d76c8d10261533c5724e3f5fc1d75489a"
        }
      }
    }
  },
  "cells": [
    {
      "cell_type": "markdown",
      "metadata": {
        "id": "1bRxWHr5e8kt"
      },
      "source": [
        "# **Курс \"Програмування на мові Python\"**\n",
        "\n",
        "##### Викладачі:\n",
        "##### Борисенко Павло Борисович\n",
        "##### Щьоголєв Максим Олегович"
      ]
    },
    {
      "cell_type": "markdown",
      "metadata": {
        "id": "buZUwUgFe-kx"
      },
      "source": [
        "## **Практичне зайняття №3**\n",
        "### Тема: \"Перші програми на Python. Введення та виведення даних. Інструкція if\""
      ]
    },
    {
      "cell_type": "markdown",
      "metadata": {
        "id": "PUkxEn8EfAUe"
      },
      "source": [
        "### **Завдання 1 (1,5 бали)**\n",
        "\n"
      ]
    },
    {
      "cell_type": "markdown",
      "metadata": {
        "id": "M7jjwxAvfKa2"
      },
      "source": [
        "**Написати програму введення та виведення даних про одержувача листа (посилки) за стандартами Укрпошти.**\n",
        "\n",
        "1. Усі запити на введення даних повинні супроводжуватись відповідними підказками-поясненнями (бажано англійською мовою).\n",
        "\n",
        "2. Дані мають виводитись так, як показано нижче (з урахуванням кількості рядків та послідовності даних у кожному з них).\n",
        "\n",
        "3. Дані, виділені жирним шрифтом, повинні вводитись із клавіатури. Всього має бути 9 окремих команд введення даних\n",
        "\n",
        "4. Назви змінних повинні бути інформативними та оформленими відповідно до правил іменування змінних\n",
        "\n",
        "5. Додати 2 коментарі, що вказують на блоки введення та виведення даних.\n",
        "\n",
        "***Формат виведення даних:***\n",
        "\n",
        "(1) **Ім'я** (2) **Прізвище**\n",
        "\n",
        "(3) **Номер телефону**\n",
        "\n",
        "Str. (4) **Назва вулиці** (5) **Номер будинку**, ap. (6) **Номер квартири**, (7) **Місто**\n",
        "\n",
        "(8) **Індекс**\n",
        "\n",
        "(9) **Країна**"
      ]
    },
    {
      "cell_type": "code",
      "metadata": {
        "id": "hEJG5C3_fJk9"
      },
      "source": [
        "name = input(\"Enter your name:\")  # Початок введення даних\n",
        "surname = input(\"Enter your surname:\")\n",
        "phone = input(\"Enter your phone number:\")\n",
        "street = input(\"Enter your street:\")\n",
        "building = input(\"Enter your house number:\")\n",
        "flat = input(\"Enter your flat number:\")\n",
        "city = input(\"Enter your city:\")\n",
        "postal_code = input(\"Enter your postal code:\")\n",
        "country = input(\"Enter your country:\")  # Кінець введеня даних\n",
        "print(\"Ім`я:\", name, \"Прізвище:\", surname)  # Початок виведення даних\n",
        "print(\"Номер телефону:\", phone)\n",
        "print(\"Назва вулиці:\", street, \n",
        "\"Номер будинку:\", building,\n",
        "\"Номер квартири:\", flat,\n",
        "\"Місто:\", city)\n",
        "print(\"Індекс:\", postal_code)\n",
        "print(\"Країна:\", country)   # Кінець виведення даних\n"
      ],
      "execution_count": 1,
      "outputs": [
        {
          "output_type": "stream",
          "name": "stdout",
          "text": [
            "Ім`я: Сергій Прізвище: Савченко\nНомер телефону: +380506749731\nНазва вулиці: Золочівська Номер будинку: 29 Номер квартири: 1 Місто: Київ\nІндекс: 04114\nКраїна: Україна\n"
          ]
        }
      ]
    },
    {
      "cell_type": "markdown",
      "metadata": {
        "id": "WmnpKrmPf689"
      },
      "source": [
        "### **Завдання 2 (1,5 бали)**"
      ]
    },
    {
      "cell_type": "markdown",
      "metadata": {
        "id": "4n4p_pz7gFKM"
      },
      "source": [
        "Відповідно до чинної системи оцінювання в КПІ, рейтингові бали R студентів переводяться в оцінки за такою таблицею:\n",
        "\n",
        "R | Grade\n",
        "--- | ---\n",
        "95 - 100 | Excellent\n",
        "85 - 94 | Very good\n",
        "75 - 84 | Good\n",
        "65 - 74 | Satisfactory\n",
        "60 - 64 | Marginal\n",
        "0 - 59 | Unsatisfactory\n",
        "\n",
        "Напишіть програму, яка буде зчитувати рейтинговий бал R, введений користувачем, та виводити відповідну оцінку як частину змістовного повідомлення. Наприклад, якщо користувач вводить рейтинговий бал R 78, ваша програма повинна показати оцінку Good. Програма також повинна виводити повідомлення про помилку, якщо користувач введе від'ємне число або число, більше за 100."
      ]
    },
    {
      "cell_type": "code",
      "execution_count": 9,
      "metadata": {},
      "outputs": [
        {
          "output_type": "stream",
          "name": "stdout",
          "text": [
            "Your grade cannot be less than '0'!\n"
          ]
        }
      ],
      "source": [
        "r = int(input(\"Enter your grade(0-100):\"))\n",
        "if 0 <= r < 59:\n",
        "    print(\"Your grade is 'Unsatisfactory'\")\n",
        "elif 60 < r < 64:\n",
        "    print(\"Your grade is 'Marginal'\")\n",
        "elif 65 < r < 74:\n",
        "    print(\"Your grade is 'Satisfactory'\")\n",
        "elif 75 < r < 84:\n",
        "    print(\"Your grade is 'Good'\")\n",
        "elif 85 < r < 94:\n",
        "    print(\"Your grade is 'Very Good'\")\n",
        "elif 95 < r <= 100:\n",
        "    print(\"Your grade is 'Excellent'\")\n",
        "elif r > 100:\n",
        "    print(\"Your grade cannot be more than '100'!\")\n",
        "else:\n",
        "    print(\"Your grade cannot be less than '0'!\")                        \n"
      ]
    },
    {
      "cell_type": "markdown",
      "metadata": {
        "id": "X8fC_GM_nMRi"
      },
      "source": [
        "### **Завдання 3 (бонусне, 1 бал)**"
      ]
    },
    {
      "cell_type": "markdown",
      "metadata": {
        "id": "b593txPwotgN"
      },
      "source": [
        "Часто говорять, що один календарний рік еквівалентний 7 рокам для собаки. Однак таке просте перетворення не враховує того, що собаки досягають повноліття приблизно у 2 роки. Тому деякі люди вважать, що краще рахувати кожен з перших двох календарних років як 10,5 років для собаки, а потім рахувати кожен наступний календарний рік як 4 роки для собаки.\n",
        "\n",
        "Напишіть програму, яка конвертує календарні роки у \"собачі\", як було показано в попередньому абзаці. Переконайтесь, що ваша програма працює правильно, конвертуючи перші два календарні роки та всі подальші. Ваша програма також повинна виводити повідомлення про помилку, якщо користувач введе від'ємне число."
      ]
    },
    {
      "cell_type": "code",
      "metadata": {
        "id": "PA_E_H0Zosu0"
      },
      "source": [
        "age = float(input(\"Enter your pet`s age:\"))   \n",
        "if 0 < age <= 2:\n",
        "    dog_age = age * 10.5\n",
        "    print(\"Your dog is \", dog_age, \"old.\")   \n",
        "elif age > 2:\n",
        "    dog_age = (10.5 * 2) + ((age - 2) * 4)\n",
        "    print(\"Your dog is \", dog_age, \"old.\")    \n",
        "elif age <= 0:\n",
        "    print(\"You cannot enter negative number!\")  \n"
      ],
      "execution_count": 15,
      "outputs": [
        {
          "output_type": "stream",
          "name": "stdout",
          "text": [
            "Your dog is  5.25 old.\n"
          ]
        }
      ]
    },
    {
      "cell_type": "code",
      "execution_count": null,
      "metadata": {},
      "outputs": [],
      "source": []
    }
  ]
}